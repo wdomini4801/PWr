{
 "cells": [
  {
   "cell_type": "markdown",
   "id": "1dbdfa3d",
   "metadata": {},
   "source": [
    "## Import bibliotek"
   ]
  },
  {
   "cell_type": "code",
   "execution_count": 121,
   "id": "d7525592",
   "metadata": {},
   "outputs": [],
   "source": [
    "import pandas as pd\n",
    "import numpy as np\n",
    "import seaborn as sns\n",
    "import matplotlib.pyplot as plt\n",
    "from sklearn.metrics import classification_report, confusion_matrix, accuracy_score\n",
    "from sklearn.decomposition import PCA\n",
    "from sklearn.naive_bayes import GaussianNB\n",
    "from sklearn.tree import DecisionTreeClassifier\n",
    "from sklearn.model_selection import GridSearchCV\n",
    "from sklearn.model_selection import train_test_split\n",
    "from sklearn.preprocessing import MinMaxScaler\n",
    "from sklearn.feature_selection import SelectKBest, f_classif\n",
    "from sklearn.preprocessing import StandardScaler\n",
    "from pandas.plotting import scatter_matrix"
   ]
  },
  {
   "cell_type": "markdown",
   "id": "d2005bbd",
   "metadata": {},
   "source": [
    "## Wczytanie danych"
   ]
  },
  {
   "cell_type": "code",
   "execution_count": 36,
   "id": "672d92b6",
   "metadata": {},
   "outputs": [],
   "source": [
    "url = \"https://archive.ics.uci.edu/ml/machine-learning-databases/glass/glass.data\"\n",
    "column_names = ['Id', 'RI', 'Na', 'Mg', 'Al', 'Si', 'K', 'Ca', 'Ba', 'Fe', 'Type']\n",
    "df = pd.read_csv(url, names=column_names)\n",
    "\n",
    "type_names = {\n",
    "    1: 'building_windows_float_processed',\n",
    "    2: 'building_windows_non_float_processed',\n",
    "    3: 'vehicle_windows_float_processed',\n",
    "    4: 'vehicle_windows_non_float_processed(none in this database)',\n",
    "    5: 'containers',\n",
    "    6: 'tableware',\n",
    "    7: 'headlamps'\n",
    "}\n",
    "\n",
    "# Łączenie kolumny Type z TypeName\n",
    "df['TypeName'] = df['Type'].map(lambda x: type_names[x].replace('_', ' ').title())\n",
    "\n",
    "# Podział danych na cechy (X) i etykiety (Y) - potrzebne przy późniejszym podziale na zestaw uczący i walidacyjny\n",
    "X = df[['RI', 'Na', 'Mg', 'Al', 'Si', 'K', 'Ca', 'Ba', 'Fe']]\n",
    "Y = df['Type']"
   ]
  },
  {
   "cell_type": "markdown",
   "id": "24b1213a",
   "metadata": {},
   "source": [
    "# Analiza danych"
   ]
  },
  {
   "cell_type": "markdown",
   "id": "8bbff664",
   "metadata": {},
   "source": [
    "W nawiązaniu do danych:\n",
    "- Id number: Numer identyfikacyjny przypisany do rekordu.\n",
    "\n",
    "- RI refractive index: Współczynnik załamania światła. Jest to wartość numeryczna, która może przyjmować różne wartości dla różnych rodzajów szkła.\n",
    "\n",
    "- Na, Mg, Al, Si, K, Ca, Ba, Fe: Procentowa zawartość poszczególnych pierwiastków w szkle. Są to wartości numeryczne.\n",
    "\n",
    "- Type of glass: Rodzaj szkła, może przyjmować wartości od 1 do 7, zgodnie z opisem z pliku \"glass.names\".\n",
    "\n",
    "W nawiązaniu do analizy:\n",
    "- Wartości numeryczne cech mogą mieć różne zakresy i rozkłady, co może wpływać na algorytmy uczenia maszynowego.\n",
    "\n",
    "- Cechy RI, Na, Mg, Al, Si, K, Ca, Ba i Fe reprezentują skład chemiczny szkła.\n",
    "\n",
    "- Etykieta Type of glass jest celem predykcyjnym, którego będziemy chcieli się nauczyć przewidywać."
   ]
  },
  {
   "cell_type": "markdown",
   "id": "4e4faa2b",
   "metadata": {},
   "source": [
    "# Eksploracja danych"
   ]
  },
  {
   "cell_type": "code",
   "execution_count": 37,
   "id": "47245d5e",
   "metadata": {},
   "outputs": [
    {
     "data": {
      "text/html": [
       "<div>\n",
       "<style scoped>\n",
       "    .dataframe tbody tr th:only-of-type {\n",
       "        vertical-align: middle;\n",
       "    }\n",
       "\n",
       "    .dataframe tbody tr th {\n",
       "        vertical-align: top;\n",
       "    }\n",
       "\n",
       "    .dataframe thead th {\n",
       "        text-align: right;\n",
       "    }\n",
       "</style>\n",
       "<table border=\"1\" class=\"dataframe\">\n",
       "  <thead>\n",
       "    <tr style=\"text-align: right;\">\n",
       "      <th></th>\n",
       "      <th>Id</th>\n",
       "      <th>RI</th>\n",
       "      <th>Na</th>\n",
       "      <th>Mg</th>\n",
       "      <th>Al</th>\n",
       "      <th>Si</th>\n",
       "      <th>K</th>\n",
       "      <th>Ca</th>\n",
       "      <th>Ba</th>\n",
       "      <th>Fe</th>\n",
       "      <th>Type</th>\n",
       "      <th>TypeName</th>\n",
       "    </tr>\n",
       "  </thead>\n",
       "  <tbody>\n",
       "    <tr>\n",
       "      <th>0</th>\n",
       "      <td>1</td>\n",
       "      <td>1.52101</td>\n",
       "      <td>13.64</td>\n",
       "      <td>4.49</td>\n",
       "      <td>1.10</td>\n",
       "      <td>71.78</td>\n",
       "      <td>0.06</td>\n",
       "      <td>8.75</td>\n",
       "      <td>0.00</td>\n",
       "      <td>0.0</td>\n",
       "      <td>1</td>\n",
       "      <td>Building Windows Float Processed</td>\n",
       "    </tr>\n",
       "    <tr>\n",
       "      <th>1</th>\n",
       "      <td>2</td>\n",
       "      <td>1.51761</td>\n",
       "      <td>13.89</td>\n",
       "      <td>3.60</td>\n",
       "      <td>1.36</td>\n",
       "      <td>72.73</td>\n",
       "      <td>0.48</td>\n",
       "      <td>7.83</td>\n",
       "      <td>0.00</td>\n",
       "      <td>0.0</td>\n",
       "      <td>1</td>\n",
       "      <td>Building Windows Float Processed</td>\n",
       "    </tr>\n",
       "    <tr>\n",
       "      <th>2</th>\n",
       "      <td>3</td>\n",
       "      <td>1.51618</td>\n",
       "      <td>13.53</td>\n",
       "      <td>3.55</td>\n",
       "      <td>1.54</td>\n",
       "      <td>72.99</td>\n",
       "      <td>0.39</td>\n",
       "      <td>7.78</td>\n",
       "      <td>0.00</td>\n",
       "      <td>0.0</td>\n",
       "      <td>1</td>\n",
       "      <td>Building Windows Float Processed</td>\n",
       "    </tr>\n",
       "    <tr>\n",
       "      <th>3</th>\n",
       "      <td>4</td>\n",
       "      <td>1.51766</td>\n",
       "      <td>13.21</td>\n",
       "      <td>3.69</td>\n",
       "      <td>1.29</td>\n",
       "      <td>72.61</td>\n",
       "      <td>0.57</td>\n",
       "      <td>8.22</td>\n",
       "      <td>0.00</td>\n",
       "      <td>0.0</td>\n",
       "      <td>1</td>\n",
       "      <td>Building Windows Float Processed</td>\n",
       "    </tr>\n",
       "    <tr>\n",
       "      <th>4</th>\n",
       "      <td>5</td>\n",
       "      <td>1.51742</td>\n",
       "      <td>13.27</td>\n",
       "      <td>3.62</td>\n",
       "      <td>1.24</td>\n",
       "      <td>73.08</td>\n",
       "      <td>0.55</td>\n",
       "      <td>8.07</td>\n",
       "      <td>0.00</td>\n",
       "      <td>0.0</td>\n",
       "      <td>1</td>\n",
       "      <td>Building Windows Float Processed</td>\n",
       "    </tr>\n",
       "    <tr>\n",
       "      <th>...</th>\n",
       "      <td>...</td>\n",
       "      <td>...</td>\n",
       "      <td>...</td>\n",
       "      <td>...</td>\n",
       "      <td>...</td>\n",
       "      <td>...</td>\n",
       "      <td>...</td>\n",
       "      <td>...</td>\n",
       "      <td>...</td>\n",
       "      <td>...</td>\n",
       "      <td>...</td>\n",
       "      <td>...</td>\n",
       "    </tr>\n",
       "    <tr>\n",
       "      <th>209</th>\n",
       "      <td>210</td>\n",
       "      <td>1.51623</td>\n",
       "      <td>14.14</td>\n",
       "      <td>0.00</td>\n",
       "      <td>2.88</td>\n",
       "      <td>72.61</td>\n",
       "      <td>0.08</td>\n",
       "      <td>9.18</td>\n",
       "      <td>1.06</td>\n",
       "      <td>0.0</td>\n",
       "      <td>7</td>\n",
       "      <td>Headlamps</td>\n",
       "    </tr>\n",
       "    <tr>\n",
       "      <th>210</th>\n",
       "      <td>211</td>\n",
       "      <td>1.51685</td>\n",
       "      <td>14.92</td>\n",
       "      <td>0.00</td>\n",
       "      <td>1.99</td>\n",
       "      <td>73.06</td>\n",
       "      <td>0.00</td>\n",
       "      <td>8.40</td>\n",
       "      <td>1.59</td>\n",
       "      <td>0.0</td>\n",
       "      <td>7</td>\n",
       "      <td>Headlamps</td>\n",
       "    </tr>\n",
       "    <tr>\n",
       "      <th>211</th>\n",
       "      <td>212</td>\n",
       "      <td>1.52065</td>\n",
       "      <td>14.36</td>\n",
       "      <td>0.00</td>\n",
       "      <td>2.02</td>\n",
       "      <td>73.42</td>\n",
       "      <td>0.00</td>\n",
       "      <td>8.44</td>\n",
       "      <td>1.64</td>\n",
       "      <td>0.0</td>\n",
       "      <td>7</td>\n",
       "      <td>Headlamps</td>\n",
       "    </tr>\n",
       "    <tr>\n",
       "      <th>212</th>\n",
       "      <td>213</td>\n",
       "      <td>1.51651</td>\n",
       "      <td>14.38</td>\n",
       "      <td>0.00</td>\n",
       "      <td>1.94</td>\n",
       "      <td>73.61</td>\n",
       "      <td>0.00</td>\n",
       "      <td>8.48</td>\n",
       "      <td>1.57</td>\n",
       "      <td>0.0</td>\n",
       "      <td>7</td>\n",
       "      <td>Headlamps</td>\n",
       "    </tr>\n",
       "    <tr>\n",
       "      <th>213</th>\n",
       "      <td>214</td>\n",
       "      <td>1.51711</td>\n",
       "      <td>14.23</td>\n",
       "      <td>0.00</td>\n",
       "      <td>2.08</td>\n",
       "      <td>73.36</td>\n",
       "      <td>0.00</td>\n",
       "      <td>8.62</td>\n",
       "      <td>1.67</td>\n",
       "      <td>0.0</td>\n",
       "      <td>7</td>\n",
       "      <td>Headlamps</td>\n",
       "    </tr>\n",
       "  </tbody>\n",
       "</table>\n",
       "<p>214 rows × 12 columns</p>\n",
       "</div>"
      ],
      "text/plain": [
       "      Id       RI     Na    Mg    Al     Si     K    Ca    Ba   Fe  Type  \\\n",
       "0      1  1.52101  13.64  4.49  1.10  71.78  0.06  8.75  0.00  0.0     1   \n",
       "1      2  1.51761  13.89  3.60  1.36  72.73  0.48  7.83  0.00  0.0     1   \n",
       "2      3  1.51618  13.53  3.55  1.54  72.99  0.39  7.78  0.00  0.0     1   \n",
       "3      4  1.51766  13.21  3.69  1.29  72.61  0.57  8.22  0.00  0.0     1   \n",
       "4      5  1.51742  13.27  3.62  1.24  73.08  0.55  8.07  0.00  0.0     1   \n",
       "..   ...      ...    ...   ...   ...    ...   ...   ...   ...  ...   ...   \n",
       "209  210  1.51623  14.14  0.00  2.88  72.61  0.08  9.18  1.06  0.0     7   \n",
       "210  211  1.51685  14.92  0.00  1.99  73.06  0.00  8.40  1.59  0.0     7   \n",
       "211  212  1.52065  14.36  0.00  2.02  73.42  0.00  8.44  1.64  0.0     7   \n",
       "212  213  1.51651  14.38  0.00  1.94  73.61  0.00  8.48  1.57  0.0     7   \n",
       "213  214  1.51711  14.23  0.00  2.08  73.36  0.00  8.62  1.67  0.0     7   \n",
       "\n",
       "                             TypeName  \n",
       "0    Building Windows Float Processed  \n",
       "1    Building Windows Float Processed  \n",
       "2    Building Windows Float Processed  \n",
       "3    Building Windows Float Processed  \n",
       "4    Building Windows Float Processed  \n",
       "..                                ...  \n",
       "209                         Headlamps  \n",
       "210                         Headlamps  \n",
       "211                         Headlamps  \n",
       "212                         Headlamps  \n",
       "213                         Headlamps  \n",
       "\n",
       "[214 rows x 12 columns]"
      ]
     },
     "execution_count": 37,
     "metadata": {},
     "output_type": "execute_result"
    }
   ],
   "source": [
    "df"
   ]
  },
  {
   "cell_type": "code",
   "execution_count": 38,
   "id": "3cc079cf",
   "metadata": {},
   "outputs": [
    {
     "data": {
      "text/html": [
       "<div>\n",
       "<style scoped>\n",
       "    .dataframe tbody tr th:only-of-type {\n",
       "        vertical-align: middle;\n",
       "    }\n",
       "\n",
       "    .dataframe tbody tr th {\n",
       "        vertical-align: top;\n",
       "    }\n",
       "\n",
       "    .dataframe thead th {\n",
       "        text-align: right;\n",
       "    }\n",
       "</style>\n",
       "<table border=\"1\" class=\"dataframe\">\n",
       "  <thead>\n",
       "    <tr style=\"text-align: right;\">\n",
       "      <th></th>\n",
       "      <th>Id</th>\n",
       "      <th>RI</th>\n",
       "      <th>Na</th>\n",
       "      <th>Mg</th>\n",
       "      <th>Al</th>\n",
       "      <th>Si</th>\n",
       "      <th>K</th>\n",
       "      <th>Ca</th>\n",
       "      <th>Ba</th>\n",
       "      <th>Fe</th>\n",
       "      <th>Type</th>\n",
       "    </tr>\n",
       "  </thead>\n",
       "  <tbody>\n",
       "    <tr>\n",
       "      <th>count</th>\n",
       "      <td>214.000000</td>\n",
       "      <td>214.000000</td>\n",
       "      <td>214.000000</td>\n",
       "      <td>214.000000</td>\n",
       "      <td>214.000000</td>\n",
       "      <td>214.000000</td>\n",
       "      <td>214.000000</td>\n",
       "      <td>214.000000</td>\n",
       "      <td>214.000000</td>\n",
       "      <td>214.000000</td>\n",
       "      <td>214.000000</td>\n",
       "    </tr>\n",
       "    <tr>\n",
       "      <th>mean</th>\n",
       "      <td>107.500000</td>\n",
       "      <td>1.518365</td>\n",
       "      <td>13.407850</td>\n",
       "      <td>2.684533</td>\n",
       "      <td>1.444907</td>\n",
       "      <td>72.650935</td>\n",
       "      <td>0.497056</td>\n",
       "      <td>8.956963</td>\n",
       "      <td>0.175047</td>\n",
       "      <td>0.057009</td>\n",
       "      <td>2.780374</td>\n",
       "    </tr>\n",
       "    <tr>\n",
       "      <th>std</th>\n",
       "      <td>61.920648</td>\n",
       "      <td>0.003037</td>\n",
       "      <td>0.816604</td>\n",
       "      <td>1.442408</td>\n",
       "      <td>0.499270</td>\n",
       "      <td>0.774546</td>\n",
       "      <td>0.652192</td>\n",
       "      <td>1.423153</td>\n",
       "      <td>0.497219</td>\n",
       "      <td>0.097439</td>\n",
       "      <td>2.103739</td>\n",
       "    </tr>\n",
       "    <tr>\n",
       "      <th>min</th>\n",
       "      <td>1.000000</td>\n",
       "      <td>1.511150</td>\n",
       "      <td>10.730000</td>\n",
       "      <td>0.000000</td>\n",
       "      <td>0.290000</td>\n",
       "      <td>69.810000</td>\n",
       "      <td>0.000000</td>\n",
       "      <td>5.430000</td>\n",
       "      <td>0.000000</td>\n",
       "      <td>0.000000</td>\n",
       "      <td>1.000000</td>\n",
       "    </tr>\n",
       "    <tr>\n",
       "      <th>25%</th>\n",
       "      <td>54.250000</td>\n",
       "      <td>1.516522</td>\n",
       "      <td>12.907500</td>\n",
       "      <td>2.115000</td>\n",
       "      <td>1.190000</td>\n",
       "      <td>72.280000</td>\n",
       "      <td>0.122500</td>\n",
       "      <td>8.240000</td>\n",
       "      <td>0.000000</td>\n",
       "      <td>0.000000</td>\n",
       "      <td>1.000000</td>\n",
       "    </tr>\n",
       "    <tr>\n",
       "      <th>50%</th>\n",
       "      <td>107.500000</td>\n",
       "      <td>1.517680</td>\n",
       "      <td>13.300000</td>\n",
       "      <td>3.480000</td>\n",
       "      <td>1.360000</td>\n",
       "      <td>72.790000</td>\n",
       "      <td>0.555000</td>\n",
       "      <td>8.600000</td>\n",
       "      <td>0.000000</td>\n",
       "      <td>0.000000</td>\n",
       "      <td>2.000000</td>\n",
       "    </tr>\n",
       "    <tr>\n",
       "      <th>75%</th>\n",
       "      <td>160.750000</td>\n",
       "      <td>1.519157</td>\n",
       "      <td>13.825000</td>\n",
       "      <td>3.600000</td>\n",
       "      <td>1.630000</td>\n",
       "      <td>73.087500</td>\n",
       "      <td>0.610000</td>\n",
       "      <td>9.172500</td>\n",
       "      <td>0.000000</td>\n",
       "      <td>0.100000</td>\n",
       "      <td>3.000000</td>\n",
       "    </tr>\n",
       "    <tr>\n",
       "      <th>max</th>\n",
       "      <td>214.000000</td>\n",
       "      <td>1.533930</td>\n",
       "      <td>17.380000</td>\n",
       "      <td>4.490000</td>\n",
       "      <td>3.500000</td>\n",
       "      <td>75.410000</td>\n",
       "      <td>6.210000</td>\n",
       "      <td>16.190000</td>\n",
       "      <td>3.150000</td>\n",
       "      <td>0.510000</td>\n",
       "      <td>7.000000</td>\n",
       "    </tr>\n",
       "  </tbody>\n",
       "</table>\n",
       "</div>"
      ],
      "text/plain": [
       "               Id          RI          Na          Mg          Al          Si  \\\n",
       "count  214.000000  214.000000  214.000000  214.000000  214.000000  214.000000   \n",
       "mean   107.500000    1.518365   13.407850    2.684533    1.444907   72.650935   \n",
       "std     61.920648    0.003037    0.816604    1.442408    0.499270    0.774546   \n",
       "min      1.000000    1.511150   10.730000    0.000000    0.290000   69.810000   \n",
       "25%     54.250000    1.516522   12.907500    2.115000    1.190000   72.280000   \n",
       "50%    107.500000    1.517680   13.300000    3.480000    1.360000   72.790000   \n",
       "75%    160.750000    1.519157   13.825000    3.600000    1.630000   73.087500   \n",
       "max    214.000000    1.533930   17.380000    4.490000    3.500000   75.410000   \n",
       "\n",
       "                K          Ca          Ba          Fe        Type  \n",
       "count  214.000000  214.000000  214.000000  214.000000  214.000000  \n",
       "mean     0.497056    8.956963    0.175047    0.057009    2.780374  \n",
       "std      0.652192    1.423153    0.497219    0.097439    2.103739  \n",
       "min      0.000000    5.430000    0.000000    0.000000    1.000000  \n",
       "25%      0.122500    8.240000    0.000000    0.000000    1.000000  \n",
       "50%      0.555000    8.600000    0.000000    0.000000    2.000000  \n",
       "75%      0.610000    9.172500    0.000000    0.100000    3.000000  \n",
       "max      6.210000   16.190000    3.150000    0.510000    7.000000  "
      ]
     },
     "execution_count": 38,
     "metadata": {},
     "output_type": "execute_result"
    }
   ],
   "source": [
    "# descriptions\n",
    "df.describe()"
   ]
  },
  {
   "cell_type": "markdown",
   "id": "83c58b6d",
   "metadata": {},
   "source": [
    "### Rozkład cech"
   ]
  },
  {
   "cell_type": "code",
   "execution_count": 39,
   "id": "30267394",
   "metadata": {},
   "outputs": [
    {
     "data": {
      "image/png": "[encoded data removed]",
      "text/plain": [
       "<Figure size 864x864 with 10 Axes>"
      ]
     },
     "metadata": {
      "needs_background": "light"
     },
     "output_type": "display_data"
    }
   ],
   "source": [
    "colors = ['red', 'blue', 'green', 'orange', 'purple', 'gray', 'pink', 'indigo', 'magenta', 'brown']\n",
    "\n",
    "# Wykres rozkładu cech\n",
    "plt.figure(figsize=(12, 12))\n",
    "for i, column in enumerate(df.columns[1:]):\n",
    "    if i < 10:\n",
    "        plt.subplot(5, 2, i+1)\n",
    "        sns.histplot(df[column], kde=True, color=colors[i])\n",
    "        plt.xlabel(column)\n",
    "plt.tight_layout()\n",
    "plt.show()"
   ]
  },
  {
   "cell_type": "markdown",
   "id": "7e92aa1d",
   "metadata": {},
   "source": [
    "### Wykresy pudełkowe"
   ]
  },
  {
   "cell_type": "code",
   "execution_count": 43,
   "id": "d0216e11",
   "metadata": {},
   "outputs": [
    {
     "data": {
      "image/png": "[encoded data removed]",
      "text/plain": [
       "<Figure size 864x864 with 10 Axes>"
      ]
     },
     "metadata": {
      "needs_background": "light"
     },
     "output_type": "display_data"
    }
   ],
   "source": [
    "colors = ['red', 'blue', 'green', 'orange', 'purple', 'gray', 'pink', 'indigo', 'magenta', 'brown']\n",
    "plt.figure(figsize=(12, 12))\n",
    "for i, column in enumerate(df.columns[1:]):\n",
    "    if i < 10:\n",
    "        plt.subplot(5, 2, i+1)\n",
    "        sns.boxplot(x=df[column], color=colors[i])\n",
    "        plt.xlabel(column)\n",
    "plt.tight_layout()\n",
    "plt.show()"
   ]
  },
  {
   "cell_type": "code",
   "execution_count": 40,
   "id": "04b20840",
   "metadata": {},
   "outputs": [
    {
     "data": {
      "text/plain": [
       "TypeName\n",
       "Building Windows Float Processed        70\n",
       "Building Windows Non Float Processed    76\n",
       "Containers                              13\n",
       "Headlamps                               29\n",
       "Tableware                                9\n",
       "Vehicle Windows Float Processed         17\n",
       "dtype: int64"
      ]
     },
     "execution_count": 40,
     "metadata": {},
     "output_type": "execute_result"
    }
   ],
   "source": [
    "df.groupby('TypeName').size()"
   ]
  },
  {
   "cell_type": "code",
   "execution_count": 41,
   "id": "31764602",
   "metadata": {},
   "outputs": [
    {
     "data": {
      "image/png": "[encoded data removed]",
      "text/plain": [
       "<Figure size 504x216 with 1 Axes>"
      ]
     },
     "metadata": {
      "needs_background": "light"
     },
     "output_type": "display_data"
    }
   ],
   "source": [
    "df.groupby('TypeName').size().plot(kind='bar', figsize=(7, 3))\n",
    "plt.show()"
   ]
  },
  {
   "cell_type": "markdown",
   "id": "d9322326",
   "metadata": {},
   "source": [
    "### Macierz korelacji"
   ]
  },
  {
   "cell_type": "code",
   "execution_count": 42,
   "id": "59bb8d20",
   "metadata": {},
   "outputs": [
    {
     "data": {
      "image/png": "[encoded data removed]",
      "text/plain": [
       "<Figure size 864x864 with 2 Axes>"
      ]
     },
     "metadata": {
      "needs_background": "light"
     },
     "output_type": "display_data"
    }
   ],
   "source": [
    "corel = df.drop('Id', axis=1)\n",
    "corel = corel.drop('Type', axis=1).corr()\n",
    "\n",
    "# Tworzenie heatmapy\n",
    "plt.figure(figsize=(12, 12))\n",
    "sns.heatmap(corel, annot=True, cmap='coolwarm')\n",
    "plt.title('Correlation Heatmap')\n",
    "plt.show()"
   ]
  },
  {
   "cell_type": "markdown",
   "id": "9b419b63",
   "metadata": {},
   "source": [
    "## Wnioski\n",
    "\n",
    "Najwięcej danych w zbiorze stanowią dane o szkle wykorzystywanym do budowy okien. Największą część składu szkła stanowią pierwiastki: krzem i sód. Można zaobserwować wysoką korelację współczynnika załamania światła oraz wapnia - możliwe, że to ten pierwiastek decyduje głównie o tym współczynniku. "
   ]
  },
  {
   "cell_type": "markdown",
   "id": "518f4a13",
   "metadata": {},
   "source": [
    "# Przygotowanie danych"
   ]
  },
  {
   "cell_type": "markdown",
   "id": "c38c63ac",
   "metadata": {},
   "source": [
    "## Dane bez przetworzenia"
   ]
  },
  {
   "cell_type": "code",
   "execution_count": 44,
   "id": "002b7a91",
   "metadata": {},
   "outputs": [],
   "source": [
    "X_train, X_test, Y_train, Y_test = train_test_split(X, Y, test_size=0.3, random_state=42, stratify=Y)"
   ]
  },
  {
   "cell_type": "markdown",
   "id": "01f2efe5",
   "metadata": {},
   "source": [
    "## Dane ustandaryzowane"
   ]
  },
  {
   "cell_type": "code",
   "execution_count": 45,
   "id": "677334df",
   "metadata": {},
   "outputs": [],
   "source": [
    "# Inicjalizacja obiektu skalowania\n",
    "standard_scaler = StandardScaler()\n",
    "\n",
    "# Dopasowanie skalera do danych uczących i transformacja danych\n",
    "X_std_train = standard_scaler.fit_transform(X_train)\n",
    "X_std_train = pd.DataFrame(X_std_train, columns=X_train.columns)\n",
    "\n",
    "# Transformacja danych walidacyjnych\n",
    "X_std_test = standard_scaler.transform(X_test)\n",
    "X_std_test = pd.DataFrame(X_std_test, columns=X_test.columns)"
   ]
  },
  {
   "cell_type": "markdown",
   "id": "9ccf85fe",
   "metadata": {},
   "source": [
    "## Dane znormalizowane"
   ]
  },
  {
   "cell_type": "code",
   "execution_count": 46,
   "id": "a7c9d74b",
   "metadata": {},
   "outputs": [],
   "source": [
    "# Inicjalizacja obiektu normalizera\n",
    "normalizer = MinMaxScaler()\n",
    "\n",
    "# Dopasowanie normalizera do danych uczących i transformacja danych\n",
    "X_norm_train = normalizer.fit_transform(X_train)\n",
    "X_norm_train = pd.DataFrame(X_norm_train, columns=X_train.columns)\n",
    "\n",
    "# Transformacja danych walidacyjnych\n",
    "X_norm_test = normalizer.transform(X_test)\n",
    "X_norm_test = pd.DataFrame(X_norm_test, columns=X_test.columns)"
   ]
  },
  {
   "cell_type": "markdown",
   "id": "46785361",
   "metadata": {},
   "source": [
    "## PCA"
   ]
  },
  {
   "cell_type": "code",
   "execution_count": 49,
   "id": "1c9c656b",
   "metadata": {},
   "outputs": [],
   "source": [
    "# Inicjalizacja obiektu PCA wraz z liczbą komponentów\n",
    "PCA_COMPONENTS = 9\n",
    "pca = PCA(n_components=PCA_COMPONENTS)\n",
    "\n",
    "# Dopasowanie do danych uczących i transformacja danych\n",
    "X_pca_train = pca.fit_transform(X_train)\n",
    "X_pca_train = pd.DataFrame(X_pca_train, columns=[f'PC{i}' for i in range(1, 1 + PCA_COMPONENTS)])\n",
    "\n",
    "#Transformacja danych walidacyjnych\n",
    "X_pca_test = pca.transform(X_test)\n",
    "X_pca_test = pd.DataFrame(X_pca_test, columns=[f'PC{i}' for i in range(1, 1 + PCA_COMPONENTS)])"
   ]
  },
  {
   "cell_type": "markdown",
   "id": "9f1979ae",
   "metadata": {},
   "source": [
    "# Klasyfikacja"
   ]
  },
  {
   "cell_type": "markdown",
   "id": "f2f664dc",
   "metadata": {},
   "source": [
    "## Metody pomocnicze"
   ]
  },
  {
   "cell_type": "code",
   "execution_count": 131,
   "id": "d4521ba1",
   "metadata": {},
   "outputs": [],
   "source": [
    "def train_and_test_model(model, X_train, X_test, Y_train, Y_test):\n",
    "    model.fit(X_train, Y_train)\n",
    "    Y_pred = model.predict(X_test)\n",
    "\n",
    "    print(\"Confusion matrix:\\n\", confusion_matrix(Y_test, Y_pred))\n",
    "    print(\"\\nClassification report:\\n\", classification_report(Y_test, Y_pred))"
   ]
  },
  {
   "cell_type": "code",
   "execution_count": 132,
   "id": "819f0d2f",
   "metadata": {},
   "outputs": [],
   "source": [
    "def test_models(X_train, X_test, process_name):    \n",
    "    classifiers = [\n",
    "        ('decision_tree', DecisionTreeClassifier()),\n",
    "        ('naive_bayes', GaussianNB())\n",
    "    ]\n",
    "\n",
    "    for name, model in classifiers:\n",
    "        print(\"Preprocessing: \", process_name)\n",
    "        print(\"Klasyfikator: \", name)\n",
    "        train_and_test_model(model, X_train, X_test, Y_train, Y_test)\n",
    "    print()"
   ]
  },
  {
   "cell_type": "markdown",
   "id": "0037d187",
   "metadata": {},
   "source": [
    "## Testowanie klasyfikatorów"
   ]
  },
  {
   "cell_type": "code",
   "execution_count": 133,
   "id": "911adfb6",
   "metadata": {},
   "outputs": [
    {
     "name": "stdout",
     "output_type": "stream",
     "text": [
      "Preprocessing:  brak\n",
      "Klasyfikator:  decision_tree\n",
      "Confusion matrix:\n",
      " [[18  1  1  0  0  1]\n",
      " [ 2 14  4  1  2  0]\n",
      " [ 2  0  3  0  0  0]\n",
      " [ 0  1  0  3  0  0]\n",
      " [ 0  1  0  0  2  0]\n",
      " [ 0  0  0  0  0  9]]\n",
      "\n",
      "Classification report:\n",
      "               precision    recall  f1-score   support\n",
      "\n",
      "           1       0.82      0.86      0.84        21\n",
      "           2       0.82      0.61      0.70        23\n",
      "           3       0.38      0.60      0.46         5\n",
      "           5       0.75      0.75      0.75         4\n",
      "           6       0.50      0.67      0.57         3\n",
      "           7       0.90      1.00      0.95         9\n",
      "\n",
      "    accuracy                           0.75        65\n",
      "   macro avg       0.69      0.75      0.71        65\n",
      "weighted avg       0.78      0.75      0.76        65\n",
      "\n",
      "Preprocessing:  brak\n",
      "Klasyfikator:  naive_bayes\n",
      "Confusion matrix:\n",
      " [[18  1  1  0  1  0]\n",
      " [16  3  1  0  2  1]\n",
      " [ 4  0  0  0  1  0]\n",
      " [ 0  2  0  0  0  2]\n",
      " [ 0  0  0  0  3  0]\n",
      " [ 0  0  0  0  0  9]]\n",
      "\n",
      "Classification report:\n",
      "               precision    recall  f1-score   support\n",
      "\n",
      "           1       0.47      0.86      0.61        21\n",
      "           2       0.50      0.13      0.21        23\n",
      "           3       0.00      0.00      0.00         5\n",
      "           5       0.00      0.00      0.00         4\n",
      "           6       0.43      1.00      0.60         3\n",
      "           7       0.75      1.00      0.86         9\n",
      "\n",
      "    accuracy                           0.51        65\n",
      "   macro avg       0.36      0.50      0.38        65\n",
      "weighted avg       0.45      0.51      0.42        65\n",
      "\n",
      "\n",
      "Preprocessing:  standaryzacja\n",
      "Klasyfikator:  decision_tree\n",
      "Confusion matrix:\n",
      " [[18  1  1  0  0  1]\n",
      " [ 2 14  4  1  2  0]\n",
      " [ 2  0  3  0  0  0]\n",
      " [ 0  0  0  3  1  0]\n",
      " [ 0  1  0  0  2  0]\n",
      " [ 0  0  0  0  0  9]]\n",
      "\n",
      "Classification report:\n",
      "               precision    recall  f1-score   support\n",
      "\n",
      "           1       0.82      0.86      0.84        21\n",
      "           2       0.88      0.61      0.72        23\n",
      "           3       0.38      0.60      0.46         5\n",
      "           5       0.75      0.75      0.75         4\n",
      "           6       0.40      0.67      0.50         3\n",
      "           7       0.90      1.00      0.95         9\n",
      "\n",
      "    accuracy                           0.75        65\n",
      "   macro avg       0.69      0.75      0.70        65\n",
      "weighted avg       0.79      0.75      0.76        65\n",
      "\n",
      "Preprocessing:  standaryzacja\n",
      "Klasyfikator:  naive_bayes\n",
      "Confusion matrix:\n",
      " [[18  1  1  0  1  0]\n",
      " [16  3  1  0  2  1]\n",
      " [ 4  0  0  0  1  0]\n",
      " [ 0  2  0  0  0  2]\n",
      " [ 0  0  0  0  3  0]\n",
      " [ 0  0  0  0  0  9]]\n",
      "\n",
      "Classification report:\n",
      "               precision    recall  f1-score   support\n",
      "\n",
      "           1       0.47      0.86      0.61        21\n",
      "           2       0.50      0.13      0.21        23\n",
      "           3       0.00      0.00      0.00         5\n",
      "           5       0.00      0.00      0.00         4\n",
      "           6       0.43      1.00      0.60         3\n",
      "           7       0.75      1.00      0.86         9\n",
      "\n",
      "    accuracy                           0.51        65\n",
      "   macro avg       0.36      0.50      0.38        65\n",
      "weighted avg       0.45      0.51      0.42        65\n",
      "\n",
      "\n",
      "Preprocessing:  normalizacja\n",
      "Klasyfikator:  decision_tree\n",
      "Confusion matrix:\n",
      " [[16  2  2  0  0  1]\n",
      " [ 2 15  4  1  1  0]\n",
      " [ 2  0  3  0  0  0]\n",
      " [ 0  1  0  3  0  0]\n",
      " [ 0  1  0  0  2  0]\n",
      " [ 0  0  0  0  0  9]]\n",
      "\n",
      "Classification report:\n",
      "               precision    recall  f1-score   support\n",
      "\n",
      "           1       0.80      0.76      0.78        21\n",
      "           2       0.79      0.65      0.71        23\n",
      "           3       0.33      0.60      0.43         5\n",
      "           5       0.75      0.75      0.75         4\n",
      "           6       0.67      0.67      0.67         3\n",
      "           7       0.90      1.00      0.95         9\n",
      "\n",
      "    accuracy                           0.74        65\n",
      "   macro avg       0.71      0.74      0.71        65\n",
      "weighted avg       0.76      0.74      0.75        65\n",
      "\n",
      "Preprocessing:  normalizacja\n",
      "Klasyfikator:  naive_bayes\n",
      "Confusion matrix:\n",
      " [[18  1  1  0  1  0]\n",
      " [16  3  1  0  2  1]\n",
      " [ 4  0  0  0  1  0]\n",
      " [ 0  2  0  0  0  2]\n",
      " [ 0  0  0  0  3  0]\n",
      " [ 0  0  0  0  0  9]]\n",
      "\n",
      "Classification report:\n",
      "               precision    recall  f1-score   support\n",
      "\n",
      "           1       0.47      0.86      0.61        21\n",
      "           2       0.50      0.13      0.21        23\n",
      "           3       0.00      0.00      0.00         5\n",
      "           5       0.00      0.00      0.00         4\n",
      "           6       0.43      1.00      0.60         3\n",
      "           7       0.75      1.00      0.86         9\n",
      "\n",
      "    accuracy                           0.51        65\n",
      "   macro avg       0.36      0.50      0.38        65\n",
      "weighted avg       0.45      0.51      0.42        65\n",
      "\n",
      "\n",
      "Preprocessing:  PCA\n",
      "Klasyfikator:  decision_tree\n",
      "Confusion matrix:\n",
      " [[15  5  1  0  0  0]\n",
      " [ 4 11  3  0  1  4]\n",
      " [ 2  1  2  0  0  0]\n",
      " [ 0  0  0  4  0  0]\n",
      " [ 0  0  0  0  3  0]\n",
      " [ 0  0  0  0  0  9]]\n",
      "\n",
      "Classification report:\n",
      "               precision    recall  f1-score   support\n",
      "\n",
      "           1       0.71      0.71      0.71        21\n",
      "           2       0.65      0.48      0.55        23\n",
      "           3       0.33      0.40      0.36         5\n",
      "           5       1.00      1.00      1.00         4\n",
      "           6       0.75      1.00      0.86         3\n",
      "           7       0.69      1.00      0.82         9\n",
      "\n",
      "    accuracy                           0.68        65\n",
      "   macro avg       0.69      0.77      0.72        65\n",
      "weighted avg       0.68      0.68      0.67        65\n",
      "\n",
      "Preprocessing:  PCA\n",
      "Klasyfikator:  naive_bayes\n",
      "Confusion matrix:\n",
      " [[17  2  1  0  1  0]\n",
      " [11  8  1  1  1  1]\n",
      " [ 4  0  1  0  0  0]\n",
      " [ 0  1  0  1  0  2]\n",
      " [ 0  2  0  0  0  1]\n",
      " [ 0  0  0  0  0  9]]\n",
      "\n",
      "Classification report:\n",
      "               precision    recall  f1-score   support\n",
      "\n",
      "           1       0.53      0.81      0.64        21\n",
      "           2       0.62      0.35      0.44        23\n",
      "           3       0.33      0.20      0.25         5\n",
      "           5       0.50      0.25      0.33         4\n",
      "           6       0.00      0.00      0.00         3\n",
      "           7       0.69      1.00      0.82         9\n",
      "\n",
      "    accuracy                           0.55        65\n",
      "   macro avg       0.45      0.43      0.41        65\n",
      "weighted avg       0.54      0.55      0.52        65\n",
      "\n",
      "\n"
     ]
    },
    {
     "name": "stderr",
     "output_type": "stream",
     "text": [
      "C:\\ProgramData\\Anaconda3\\lib\\site-packages\\sklearn\\metrics\\_classification.py:1248: UndefinedMetricWarning: Precision and F-score are ill-defined and being set to 0.0 in labels with no predicted samples. Use `zero_division` parameter to control this behavior.\n",
      "  _warn_prf(average, modifier, msg_start, len(result))\n",
      "C:\\ProgramData\\Anaconda3\\lib\\site-packages\\sklearn\\metrics\\_classification.py:1248: UndefinedMetricWarning: Precision and F-score are ill-defined and being set to 0.0 in labels with no predicted samples. Use `zero_division` parameter to control this behavior.\n",
      "  _warn_prf(average, modifier, msg_start, len(result))\n",
      "C:\\ProgramData\\Anaconda3\\lib\\site-packages\\sklearn\\metrics\\_classification.py:1248: UndefinedMetricWarning: Precision and F-score are ill-defined and being set to 0.0 in labels with no predicted samples. Use `zero_division` parameter to control this behavior.\n",
      "  _warn_prf(average, modifier, msg_start, len(result))\n",
      "C:\\ProgramData\\Anaconda3\\lib\\site-packages\\sklearn\\metrics\\_classification.py:1248: UndefinedMetricWarning: Precision and F-score are ill-defined and being set to 0.0 in labels with no predicted samples. Use `zero_division` parameter to control this behavior.\n",
      "  _warn_prf(average, modifier, msg_start, len(result))\n",
      "C:\\ProgramData\\Anaconda3\\lib\\site-packages\\sklearn\\metrics\\_classification.py:1248: UndefinedMetricWarning: Precision and F-score are ill-defined and being set to 0.0 in labels with no predicted samples. Use `zero_division` parameter to control this behavior.\n",
      "  _warn_prf(average, modifier, msg_start, len(result))\n",
      "C:\\ProgramData\\Anaconda3\\lib\\site-packages\\sklearn\\metrics\\_classification.py:1248: UndefinedMetricWarning: Precision and F-score are ill-defined and being set to 0.0 in labels with no predicted samples. Use `zero_division` parameter to control this behavior.\n",
      "  _warn_prf(average, modifier, msg_start, len(result))\n",
      "C:\\ProgramData\\Anaconda3\\lib\\site-packages\\sklearn\\metrics\\_classification.py:1248: UndefinedMetricWarning: Precision and F-score are ill-defined and being set to 0.0 in labels with no predicted samples. Use `zero_division` parameter to control this behavior.\n",
      "  _warn_prf(average, modifier, msg_start, len(result))\n",
      "C:\\ProgramData\\Anaconda3\\lib\\site-packages\\sklearn\\metrics\\_classification.py:1248: UndefinedMetricWarning: Precision and F-score are ill-defined and being set to 0.0 in labels with no predicted samples. Use `zero_division` parameter to control this behavior.\n",
      "  _warn_prf(average, modifier, msg_start, len(result))\n",
      "C:\\ProgramData\\Anaconda3\\lib\\site-packages\\sklearn\\metrics\\_classification.py:1248: UndefinedMetricWarning: Precision and F-score are ill-defined and being set to 0.0 in labels with no predicted samples. Use `zero_division` parameter to control this behavior.\n",
      "  _warn_prf(average, modifier, msg_start, len(result))\n"
     ]
    }
   ],
   "source": [
    "test_models(X_train, X_test, \"brak\")\n",
    "test_models(X_std_train, X_std_test, \"standaryzacja\")\n",
    "test_models(X_norm_train, X_norm_test, \"normalizacja\")\n",
    "test_models(X_pca_train, X_pca_test, \"PCA\")"
   ]
  },
  {
   "cell_type": "markdown",
   "id": "c98bb67a",
   "metadata": {},
   "source": [
    "Widzimy, że dla wszystkich sposobów przetworzenia danych lepsze rezultaty osiąga drzewo decyzyjne. Wynika to z tego, że naiwny klasyfikator Bayesa zakłada niezależność wszystkich cech od siebie, co w niektórych przypadkach może prowadzić do zbyt dużego uproszczenia. W naszym przypadku na macierzy korelacji widzieliśmy wyraźnie, że niektóre cechy były ze sobą skorelowane. \n",
    "\n",
    "Zbyt wielkich różnic dla tego klasyfikatora nie robi przetwarzanie danych poprzez standaryzację czy normalizację, ponieważ klasyfikator ten nie zależy od skali danych - bazuje jedynie na prawdopodobieństwach warunkowych między cechami a klasami. Standaryzacja lub normalizacja zmienia jedynie skalę danych, ale nie zmienia wzajemnych relacji między nimi. Zakłada on także niezależność między cechami, a przeskalowanie danych nie ma wpływu na to założenie. Jednak przetworzenie danych poprzez PCA powoduje polepszenie wyników - być może dlatego, że PCA redukuje wymiarowość danych, co może pomóc w eliminacji zbędnych informacji i szumów w danych, dzięki czemu poprawia się zdolność klasyfikatora Bayesa do identyfikacji istotnych wzorców. PCA sortuje także składowe główne według ich wariancji, co oznacza, że pierwsze składowe główne przechowują najwięcej informacji o danych. Przetworzenie danych przez PCA i wykorzystanie tylko najważniejszych składowych głównych może skoncentrować się na istotnych aspektach danych i zredukować wpływ mniej ważnych cech na wyniki klasyfikacji.\n",
    "\n",
    "Jeśli chodzi o drzewo decyzyjne, tutaj przetworzenie parametrów poprzez standaryzację lub normalizację również nie zmienia skuteczności klasyfkacji - klasyfikator ten nie zależy od skali danych, ponieważ decyzje podejmowane są na podstawie progu podziału na poszczególnych węzłach drzewa. Standaryzacja lub normalizacja danych nie zmieniają relacji między cechami, a jedynie ich skale. Zaś przetworzenie danych przez PCA wpływa negatywnie na wyniki - prawdopodobnie dlatego, że przetworzenie danych przez PCA i wykorzystanie tylko wybranych składowych głównych może utrudnić interpretację modelu, ponieważ reguły klasyfikacyjne będą oparte na abstrakcyjnych kombinacjach składowych głównych, a nie bezpośrednio na oryginalnych cechach."
   ]
  },
  {
   "cell_type": "markdown",
   "id": "5684181a",
   "metadata": {},
   "source": [
    "## Zmiana hiperparametrów"
   ]
  },
  {
   "cell_type": "markdown",
   "id": "e2455e19",
   "metadata": {},
   "source": [
    "### Naiwny klasyfikator Bayesa"
   ]
  },
  {
   "cell_type": "code",
   "execution_count": 94,
   "id": "fb31757f",
   "metadata": {},
   "outputs": [],
   "source": [
    "priors_equal = [1/len(Y.unique())] * len(Y.unique())"
   ]
  },
  {
   "cell_type": "code",
   "execution_count": 134,
   "id": "c975988b",
   "metadata": {},
   "outputs": [],
   "source": [
    "def find_best_bayes(processing, X_train, X_test, steps, min_alpha, max_alpha, priors=None):\n",
    "    model = GaussianNB()\n",
    "    smoothing = np.logspace(min_alpha, max_alpha, steps)\n",
    "    priors_name = \"Default priors\" if priors is None else \"Equal priors\"\n",
    "    best_accuracy = 0\n",
    "    best_alpha = 0\n",
    "    accuracies = []\n",
    "    alphas = []\n",
    "\n",
    "    for val in smoothing:\n",
    "        model.set_params(var_smoothing=val, priors=priors)\n",
    "        model.fit(X_train, Y_train)\n",
    "        Y_pred = model.predict(X_test)\n",
    "        accuracy = accuracy_score(Y_test, Y_pred)\n",
    "        accuracies.append(accuracy)\n",
    "        alphas.append(val)\n",
    "        if accuracy > best_accuracy:\n",
    "            best_accuracy = accuracy\n",
    "            best_alpha = val\n",
    "\n",
    "\n",
    "    print(f\"Preprocessing: {processing}\",\n",
    "          f'Best accuracy: {best_accuracy:.3f}', priors_name, f'Smoothing: {best_alpha:.10f}', sep=\"\\t\")"
   ]
  },
  {
   "cell_type": "code",
   "execution_count": 138,
   "id": "c2eef9b3",
   "metadata": {},
   "outputs": [
    {
     "name": "stdout",
     "output_type": "stream",
     "text": [
      "Preprocessing: Brak\tBest accuracy: 0.554\tDefault priors\tSmoothing: 0.0140053055\n",
      "Preprocessing: Brak\tBest accuracy: 0.492\tEqual priors\tSmoothing: 0.0000100000\n",
      "Preprocessing: std\tBest accuracy: 0.538\tDefault priors\tSmoothing: 0.0572156756\n",
      "Preprocessing: std\tBest accuracy: 0.477\tEqual priors\tSmoothing: 0.0000000001\n",
      "Preprocessing: norm\tBest accuracy: 0.569\tDefault priors\tSmoothing: 0.0572156756\n",
      "Preprocessing: norm\tBest accuracy: 0.477\tEqual priors\tSmoothing: 0.0000000001\n",
      "Preprocessing: PCA\tBest accuracy: 0.600\tDefault priors\tSmoothing: 0.0130687023\n",
      "Preprocessing: PCA\tBest accuracy: 0.585\tEqual priors\tSmoothing: 0.0000000557\n"
     ]
    }
   ],
   "source": [
    "find_best_bayes(\"Brak\", X_train, X_test, 500, -5, 0)\n",
    "find_best_bayes(\"Brak\", X_train, X_test, 500, -5, 0, priors_equal)\n",
    "\n",
    "find_best_bayes(\"std\", X_std_train, X_std_test, 500, -10, 0)\n",
    "find_best_bayes(\"std\", X_std_train, X_std_test, 500, -10, 0, priors_equal)\n",
    "\n",
    "find_best_bayes(\"norm\", X_norm_train, X_norm_test, 500, -10, 0)\n",
    "find_best_bayes(\"norm\", X_norm_train, X_norm_test, 500, -10, 0, priors_equal)\n",
    "\n",
    "find_best_bayes(\"PCA\", X_pca_train, X_pca_test, 500, -10, 0)\n",
    "find_best_bayes(\"PCA\", X_pca_train, X_pca_test, 500, -10, 0, priors_equal)"
   ]
  },
  {
   "cell_type": "markdown",
   "id": "717b1b57",
   "metadata": {},
   "source": [
    "Najlepsze wyniki naiwny klasyfikator Bayesa osiągnął dla przetwarzania danych metodą PCA, domyślnych wartości prawdopodobieństw (priors) oraz wartości \"smoothing\" ok. 0,01. Najgorsze wyniki klasyfikator ma dla danych po standaryzacji oraz normalizacji oraz równych wartości prawdopodobieństw dla każdej z klas. Modyfikacja prawdopodobieństw na równe dla każdej z klas pogarsza wynik w kazdym wariancie przetwarzania danych - jeśli klasy są nierówno reprezentowane w danych, priorytety równych prawdopodobieństw mogą prowadzić do błędnej klasyfikacji, szczególnie dla mniej licznych klas, które w źródłowym zbiorze występują. Natomiast modyfikacja parametru \"smoothing\" polepszyła wyniki w każdym przypadku - w niektórych przypadkach braku wystąpień pewnej kombinacji wartości cech w danych treningowych, estymacja maksymalnego prawdopodobieństwa może wynosić zero, co prowadzi do problemów w dalszej klasyfikacji. Ustawienie wartości \"smoothing\" większej niż zero pozwala na wygładzenie estymacji i przeciwdziałanie zerowym prawdopodobieństwom, co poprawia wyniki klasyfikacji."
   ]
  },
  {
   "cell_type": "markdown",
   "id": "cdfd21c2",
   "metadata": {},
   "source": [
    "## Drzewo decyzyjne"
   ]
  },
  {
   "cell_type": "code",
   "execution_count": 136,
   "id": "815b24b6",
   "metadata": {},
   "outputs": [],
   "source": [
    "def find_best_tree(processing, X_train, X_test, max_depth=10, max_leaves=10, criterion=\"gini\"):\n",
    "    model = DecisionTreeClassifier()\n",
    "    depths = range(2, max_depth)\n",
    "    leaf_nodes = range(2, max_leaves)\n",
    "\n",
    "    accuracies = np.array([[0] * len(leaf_nodes)] * len(depths), dtype=float)\n",
    "\n",
    "    best_accuracy = 0\n",
    "    best_depth = 0\n",
    "    best_leaf_nodes = 0\n",
    "\n",
    "    for max_depth in depths:\n",
    "        for max_leaf_nodes in leaf_nodes:\n",
    "            model.set_params(max_depth=max_depth, max_leaf_nodes=max_leaf_nodes, criterion=criterion)\n",
    "            model.fit(X_train, Y_train)\n",
    "            Y_pred = model.predict(X_test)\n",
    "            accuracy = accuracy_score(Y_test, Y_pred)\n",
    "            accuracies[max_depth - 2, max_leaf_nodes - 2] = accuracy\n",
    "            if accuracy > best_accuracy:\n",
    "                best_accuracy = accuracy\n",
    "                best_depth = max_depth\n",
    "                best_leaf_nodes = max_leaf_nodes\n",
    "\n",
    "    print(f\"Preprocessing: {processing}\", f'Best accuracy: {best_accuracy:.5f}', f'Depth: {best_depth}', f'Leaf nodes: {best_leaf_nodes}',  f'Criterion: {criterion}', sep=\"\\t\")"
   ]
  },
  {
   "cell_type": "code",
   "execution_count": 139,
   "id": "1880ee09",
   "metadata": {
    "scrolled": true
   },
   "outputs": [
    {
     "name": "stdout",
     "output_type": "stream",
     "text": [
      "Preprocessing: brak\tBest accuracy: 0.76923\tDepth: 7\tLeaf nodes: 19\tCriterion: gini\n",
      "Preprocessing: brak\tBest accuracy: 0.80000\tDepth: 16\tLeaf nodes: 19\tCriterion: entropy\n",
      "Preprocessing: std\tBest accuracy: 0.76923\tDepth: 11\tLeaf nodes: 19\tCriterion: gini\n",
      "Preprocessing: std\tBest accuracy: 0.80000\tDepth: 8\tLeaf nodes: 19\tCriterion: entropy\n",
      "Preprocessing: norm\tBest accuracy: 0.76923\tDepth: 7\tLeaf nodes: 19\tCriterion: gini\n",
      "Preprocessing: norm\tBest accuracy: 0.80000\tDepth: 15\tLeaf nodes: 19\tCriterion: entropy\n",
      "Preprocessing: PCA\tBest accuracy: 0.69231\tDepth: 5\tLeaf nodes: 15\tCriterion: gini\n",
      "Preprocessing: PCA\tBest accuracy: 0.72308\tDepth: 4\tLeaf nodes: 10\tCriterion: entropy\n"
     ]
    }
   ],
   "source": [
    "find_best_tree(\"brak\", X_train, X_test, 20, 20)\n",
    "find_best_tree(\"brak\", X_train, X_test, 20, 20, criterion=\"entropy\")\n",
    "\n",
    "find_best_tree(\"std\", X_std_train, X_std_test, 20, 20)\n",
    "find_best_tree(\"std\", X_std_train, X_std_test, 20, 20, criterion=\"entropy\")\n",
    "\n",
    "find_best_tree(\"norm\", X_norm_train, X_norm_test, 20, 20)\n",
    "find_best_tree(\"norm\", X_norm_train, X_norm_test, 20, 20, criterion=\"entropy\")\n",
    "\n",
    "find_best_tree(\"PCA\", X_pca_train, X_pca_test, 20, 20)\n",
    "find_best_tree(\"PCA\", X_pca_train, X_pca_test, 20, 20, criterion=\"entropy\")"
   ]
  },
  {
   "cell_type": "markdown",
   "id": "7d832d24",
   "metadata": {},
   "source": [
    "Jak widać, modyfikacja hiperparametrów w przypadku klasyfikatora drzewa decyzyjnego znacznie polepszyła wyniki. Najgorsze rezultaty klasyfikator osiąga dla przetwarzania danych metodą PCA, jednak mimo to są one lepsze niż przy braku modyfikacji hiperparametrów. Najlepsze wyniki zostały osiągnięte dla braku przetwarzania danych oraz normalizacji. \n",
    "\n",
    "Modyfikacja parametrów \"max_depth\" oraz \"max_leaf_nodes\" miała pozytywny wpływ na wyniki - zmniejsza to liczbę podziałów i reguł decyzyjnych w drzewie. Dłuższe reguły decyzyjne mogą prowadzić do zbyt skomplikowanych modeli, które mogą być podatne na szum w danych treningowych lub nieistotne zależności. Poprzez ograniczenie maksymalnej głębokości drzewa, model staje się bardziej zwięzły i bardziej odporny na wpływ nieistotnych cech. \n",
    "\n",
    "Duży wplyw miała modyfikacja parametru \"criterion\", czyli miary jakości używanej do wyboru podziału w węźle drzewa. Wartość ustawiona na \"entropy\" w każdym przypadku poprawiała wynik. Miara \"entropy\" oparta na entropii informacyjnej mierzy stopień nieuporządkowania lub niejednoznaczności w zbiorze danych. W przypadku, gdy dane mają skomplikowane wzorce i wiele cech jest istotnych dla klasyfikacji, miara \"entropy\" może lepiej radzić sobie z identyfikacją ważnych podziałów i tworzeniem bardziej dokładnych drzew decyzyjnych. W porównaniu, miara \"gini\" mierzy impurity poprzez ocenę częstości występowania różnych klas, ale niekoniecznie wydobywa bardziej subtelne wzorce w danych. Miara \"entropy\" jest również bardziej wrażliwa na równomierną dystrybucję klas w węzłach drzewa. Przy użyciu \"entropy\" drzewo decyzyjne ma tendencję do równoważenia podziałów klasowych w węzłach, co może być korzystne, jeśli chcemy uniknąć dominacji jednej klasy i poprawić ogólną zdolność klasyfikatora do rozpoznawania różnych klas."
   ]
  }
 ],
 "metadata": {
  "kernelspec": {
   "display_name": "Python 3 (ipykernel)",
   "language": "python",
   "name": "python3"
  },
  "language_info": {
   "codemirror_mode": {
    "name": "ipython",
    "version": 3
   },
   "file_extension": ".py",
   "mimetype": "text/x-python",
   "name": "python",
   "nbconvert_exporter": "python",
   "pygments_lexer": "ipython3",
   "version": "3.9.7"
  }
 },
 "nbformat": 4,
 "nbformat_minor": 5
}
